{
  "nbformat": 4,
  "nbformat_minor": 0,
  "metadata": {
    "colab": {
      "name": "Dyslexia prediction.ipynb",
      "provenance": []
    },
    "kernelspec": {
      "name": "python3",
      "display_name": "Python 3"
    },
    "language_info": {
      "name": "python"
    }
  },
  "cells": [
    {
      "cell_type": "code",
      "execution_count": 1,
      "metadata": {
        "id": "3Cj3GgsOKdHh"
      },
      "outputs": [],
      "source": [
        "from sklearn.svm import SVC\n",
        "from sklearn.model_selection import train_test_split\n",
        "import numpy as np\n",
        "import pandas as pd\n",
        "from sklearn.ensemble import RandomForestClassifier\n",
        "from sklearn.model_selection import GridSearchCV\n",
        "from sklearn.tree import DecisionTreeClassifier\n",
        "import seaborn as sns\n",
        "import matplotlib.pyplot as plt\n",
        "from sklearn.preprocessing import StandardScaler\n",
        "from sklearn.metrics import f1_score\n",
        "from sklearn.metrics import precision_recall_fscore_support\n",
        "from sklearn.metrics import confusion_matrix, plot_confusion_matrix\n",
        "import matplotlib.pyplot as plt# doctest: +SKIP\n",
        "from sklearn.metrics import mean_absolute_error\n",
        "%matplotlib inline"
      ]
    },
    {
      "cell_type": "code",
      "source": [
        "#Reading the dataset\n",
        "data=pd.read_csv('/content/labeled_dysx.txt')\n",
        "#Value to be predicted by the model.\n",
        "y=data.Label \n",
        "#Input taken by the model.\n",
        "X=data.drop(['Label'],axis=1) \n",
        "data.head()"
      ],
      "metadata": {
        "colab": {
          "base_uri": "https://localhost:8080/",
          "height": 206
        },
        "id": "4w_JNOkpKi32",
        "outputId": "2de75b70-3eb1-4f67-886a-4480cd4b3565"
      },
      "execution_count": 2,
      "outputs": [
        {
          "output_type": "execute_result",
          "data": {
            "text/plain": [
              "   Language_vocab  Memory  Speed  Visual_discrimination  Audio_Discrimination  \\\n",
              "0             0.5     0.6    0.5                    0.8                   0.6   \n",
              "1             0.6     0.7    0.8                    0.9                   0.5   \n",
              "2             0.6     0.4    0.3                    0.3                   0.4   \n",
              "3             0.3     0.5    0.2                    0.1                   0.3   \n",
              "4             0.7     0.6    0.7                    0.8                   0.9   \n",
              "\n",
              "   Survey_Score  Label  \n",
              "0           0.7      1  \n",
              "1           0.8      2  \n",
              "2           0.6      1  \n",
              "3           0.5      0  \n",
              "4           0.5      2  "
            ],
            "text/html": [
              "\n",
              "  <div id=\"df-49e089be-a2b5-4597-a32e-a7a2596c0ec6\">\n",
              "    <div class=\"colab-df-container\">\n",
              "      <div>\n",
              "<style scoped>\n",
              "    .dataframe tbody tr th:only-of-type {\n",
              "        vertical-align: middle;\n",
              "    }\n",
              "\n",
              "    .dataframe tbody tr th {\n",
              "        vertical-align: top;\n",
              "    }\n",
              "\n",
              "    .dataframe thead th {\n",
              "        text-align: right;\n",
              "    }\n",
              "</style>\n",
              "<table border=\"1\" class=\"dataframe\">\n",
              "  <thead>\n",
              "    <tr style=\"text-align: right;\">\n",
              "      <th></th>\n",
              "      <th>Language_vocab</th>\n",
              "      <th>Memory</th>\n",
              "      <th>Speed</th>\n",
              "      <th>Visual_discrimination</th>\n",
              "      <th>Audio_Discrimination</th>\n",
              "      <th>Survey_Score</th>\n",
              "      <th>Label</th>\n",
              "    </tr>\n",
              "  </thead>\n",
              "  <tbody>\n",
              "    <tr>\n",
              "      <th>0</th>\n",
              "      <td>0.5</td>\n",
              "      <td>0.6</td>\n",
              "      <td>0.5</td>\n",
              "      <td>0.8</td>\n",
              "      <td>0.6</td>\n",
              "      <td>0.7</td>\n",
              "      <td>1</td>\n",
              "    </tr>\n",
              "    <tr>\n",
              "      <th>1</th>\n",
              "      <td>0.6</td>\n",
              "      <td>0.7</td>\n",
              "      <td>0.8</td>\n",
              "      <td>0.9</td>\n",
              "      <td>0.5</td>\n",
              "      <td>0.8</td>\n",
              "      <td>2</td>\n",
              "    </tr>\n",
              "    <tr>\n",
              "      <th>2</th>\n",
              "      <td>0.6</td>\n",
              "      <td>0.4</td>\n",
              "      <td>0.3</td>\n",
              "      <td>0.3</td>\n",
              "      <td>0.4</td>\n",
              "      <td>0.6</td>\n",
              "      <td>1</td>\n",
              "    </tr>\n",
              "    <tr>\n",
              "      <th>3</th>\n",
              "      <td>0.3</td>\n",
              "      <td>0.5</td>\n",
              "      <td>0.2</td>\n",
              "      <td>0.1</td>\n",
              "      <td>0.3</td>\n",
              "      <td>0.5</td>\n",
              "      <td>0</td>\n",
              "    </tr>\n",
              "    <tr>\n",
              "      <th>4</th>\n",
              "      <td>0.7</td>\n",
              "      <td>0.6</td>\n",
              "      <td>0.7</td>\n",
              "      <td>0.8</td>\n",
              "      <td>0.9</td>\n",
              "      <td>0.5</td>\n",
              "      <td>2</td>\n",
              "    </tr>\n",
              "  </tbody>\n",
              "</table>\n",
              "</div>\n",
              "      <button class=\"colab-df-convert\" onclick=\"convertToInteractive('df-49e089be-a2b5-4597-a32e-a7a2596c0ec6')\"\n",
              "              title=\"Convert this dataframe to an interactive table.\"\n",
              "              style=\"display:none;\">\n",
              "        \n",
              "  <svg xmlns=\"http://www.w3.org/2000/svg\" height=\"24px\"viewBox=\"0 0 24 24\"\n",
              "       width=\"24px\">\n",
              "    <path d=\"M0 0h24v24H0V0z\" fill=\"none\"/>\n",
              "    <path d=\"M18.56 5.44l.94 2.06.94-2.06 2.06-.94-2.06-.94-.94-2.06-.94 2.06-2.06.94zm-11 1L8.5 8.5l.94-2.06 2.06-.94-2.06-.94L8.5 2.5l-.94 2.06-2.06.94zm10 10l.94 2.06.94-2.06 2.06-.94-2.06-.94-.94-2.06-.94 2.06-2.06.94z\"/><path d=\"M17.41 7.96l-1.37-1.37c-.4-.4-.92-.59-1.43-.59-.52 0-1.04.2-1.43.59L10.3 9.45l-7.72 7.72c-.78.78-.78 2.05 0 2.83L4 21.41c.39.39.9.59 1.41.59.51 0 1.02-.2 1.41-.59l7.78-7.78 2.81-2.81c.8-.78.8-2.07 0-2.86zM5.41 20L4 18.59l7.72-7.72 1.47 1.35L5.41 20z\"/>\n",
              "  </svg>\n",
              "      </button>\n",
              "      \n",
              "  <style>\n",
              "    .colab-df-container {\n",
              "      display:flex;\n",
              "      flex-wrap:wrap;\n",
              "      gap: 12px;\n",
              "    }\n",
              "\n",
              "    .colab-df-convert {\n",
              "      background-color: #E8F0FE;\n",
              "      border: none;\n",
              "      border-radius: 50%;\n",
              "      cursor: pointer;\n",
              "      display: none;\n",
              "      fill: #1967D2;\n",
              "      height: 32px;\n",
              "      padding: 0 0 0 0;\n",
              "      width: 32px;\n",
              "    }\n",
              "\n",
              "    .colab-df-convert:hover {\n",
              "      background-color: #E2EBFA;\n",
              "      box-shadow: 0px 1px 2px rgba(60, 64, 67, 0.3), 0px 1px 3px 1px rgba(60, 64, 67, 0.15);\n",
              "      fill: #174EA6;\n",
              "    }\n",
              "\n",
              "    [theme=dark] .colab-df-convert {\n",
              "      background-color: #3B4455;\n",
              "      fill: #D2E3FC;\n",
              "    }\n",
              "\n",
              "    [theme=dark] .colab-df-convert:hover {\n",
              "      background-color: #434B5C;\n",
              "      box-shadow: 0px 1px 3px 1px rgba(0, 0, 0, 0.15);\n",
              "      filter: drop-shadow(0px 1px 2px rgba(0, 0, 0, 0.3));\n",
              "      fill: #FFFFFF;\n",
              "    }\n",
              "  </style>\n",
              "\n",
              "      <script>\n",
              "        const buttonEl =\n",
              "          document.querySelector('#df-49e089be-a2b5-4597-a32e-a7a2596c0ec6 button.colab-df-convert');\n",
              "        buttonEl.style.display =\n",
              "          google.colab.kernel.accessAllowed ? 'block' : 'none';\n",
              "\n",
              "        async function convertToInteractive(key) {\n",
              "          const element = document.querySelector('#df-49e089be-a2b5-4597-a32e-a7a2596c0ec6');\n",
              "          const dataTable =\n",
              "            await google.colab.kernel.invokeFunction('convertToInteractive',\n",
              "                                                     [key], {});\n",
              "          if (!dataTable) return;\n",
              "\n",
              "          const docLinkHtml = 'Like what you see? Visit the ' +\n",
              "            '<a target=\"_blank\" href=https://colab.research.google.com/notebooks/data_table.ipynb>data table notebook</a>'\n",
              "            + ' to learn more about interactive tables.';\n",
              "          element.innerHTML = '';\n",
              "          dataTable['output_type'] = 'display_data';\n",
              "          await google.colab.output.renderOutput(dataTable, element);\n",
              "          const docLink = document.createElement('div');\n",
              "          docLink.innerHTML = docLinkHtml;\n",
              "          element.appendChild(docLink);\n",
              "        }\n",
              "      </script>\n",
              "    </div>\n",
              "  </div>\n",
              "  "
            ]
          },
          "metadata": {},
          "execution_count": 2
        }
      ]
    },
    {
      "cell_type": "code",
      "source": [
        "#In the given data, the label is the indication for whether the person has dislexia or not.\n",
        "#Label = 0 means that there is a high chance that the person has dislexia.\n",
        "#Label = 1 means that there is a moderte chance that the person has dislexia.\n",
        "#Label = 2 means that there is a low chance that the person has dislexia.\n",
        "#The Survey_Score is calculated on the basis of the answers to the quiz given by the applicant."
      ],
      "metadata": {
        "id": "4AGB2IGDLzQN"
      },
      "execution_count": 3,
      "outputs": []
    },
    {
      "cell_type": "code",
      "source": [
        "#The following test cases will be used to check the values given by each model.\n",
        "test1 = np.array([[0.5, 0.1, 0.2, 0.8, 0.3, 0.5]]) #Readings for applicant 1.\n",
        "test2 = np.array([[0.7, 0.9, 0.4, 0.9, 0.3, 0.8]]) #Readings for applicant 2.\n",
        "test3 = np.array([[0.1, 0.7, 0.2, 0.6, 0.9, 0.6]]) #Readings for applicant 3.\n",
        "test4 = np.array([[0.3, 0.4, 0.5, 0.3, 0.3, 0.5]]) #Readings for applicant 4."
      ],
      "metadata": {
        "id": "Vi_MUPZrL1fi"
      },
      "execution_count": 4,
      "outputs": []
    },
    {
      "cell_type": "code",
      "source": [
        "#Creating the test and train data sets for the given data.\n",
        "X_train,X_test,y_train,y_test=train_test_split(X,y,test_size=0.8,random_state=10)\n",
        "#list to store precision values of each model.\n",
        "precision = [0, 0, 0, 0, 0]\n",
        "#list to store recall values of each model.\n",
        "recall = [0, 0, 0, 0, 0]\n",
        "#list to store f1-score values of each model.\n",
        "fscore = [0, 0, 0, 0, 0]\n",
        "#list to store error in predictions of each model.\n",
        "error = [.0, .0, .0, .0, .0]"
      ],
      "metadata": {
        "id": "kZ6s4k7wL7Ep"
      },
      "execution_count": 5,
      "outputs": []
    },
    {
      "cell_type": "code",
      "source": [
        "#StandardScalar is used for preprocessing of data.\n",
        "#'copy' is False, which means copies are avoid and inplace scaling is done instead.\n",
        "sc=StandardScaler(copy=False)\n",
        "sc.fit_transform(X_train)\n",
        "sc.transform(X_test)"
      ],
      "metadata": {
        "colab": {
          "base_uri": "https://localhost:8080/"
        },
        "id": "odr-JWUIMVIL",
        "outputId": "082d1885-4d72-42bb-dc90-071dd11be61e"
      },
      "execution_count": 6,
      "outputs": [
        {
          "output_type": "execute_result",
          "data": {
            "text/plain": [
              "array([[-0.40859278,  0.09423675,  0.57481025,  1.09456548,  0.51247074,\n",
              "         0.54374235],\n",
              "       [ 2.0828266 ,  0.54298319, -0.30276265,  0.14688974,  0.01971041,\n",
              "         0.54374235],\n",
              "       [ 0.0896911 ,  0.09423675,  0.1360238 , -1.27462388, -0.47304992,\n",
              "         0.1016754 ],\n",
              "       ...,\n",
              "       [-0.90687665, -0.80325613, -0.7415491 , -1.74846175, -1.45857058,\n",
              "        -1.22452545],\n",
              "       [-0.90687665,  0.54298319, -0.30276265,  0.14688974, -0.47304992,\n",
              "         0.1016754 ],\n",
              "       [ 0.58797497,  0.09423675,  0.57481025,  2.04224123, -0.47304992,\n",
              "         0.54374235]])"
            ]
          },
          "metadata": {},
          "execution_count": 6
        }
      ]
    },
    {
      "cell_type": "code",
      "source": [
        "#Creating lists of label outputs given in each test case by different models\n",
        "label_1 = [0, 0, 0, 0, 0]\n",
        "label_2 = [0, 0, 0, 0, 0]\n",
        "label_3 = [0, 0, 0, 0, 0]\n",
        "label_4 = [0, 0, 0, 0, 0]"
      ],
      "metadata": {
        "id": "9Q1PPphKMvg_"
      },
      "execution_count": 7,
      "outputs": []
    },
    {
      "cell_type": "markdown",
      "source": [
        "Decision Tree"
      ],
      "metadata": {
        "id": "9jJRrWcwM14l"
      }
    },
    {
      "cell_type": "code",
      "source": [
        "#Creating the DecisionTree model.\n",
        "dt = DecisionTreeClassifier(random_state = 1)\n",
        "#Training the model.\n",
        "dt.fit(X_train, y_train)\n",
        "#Making predictions using the decision tree model.\n",
        "pred_dt = dt.predict(X_test)\n",
        "#Calculating error\n",
        "error[0] = round(mean_absolute_error(y_test, pred_dt), 3)"
      ],
      "metadata": {
        "id": "eLl0V6lpM0Lw"
      },
      "execution_count": 8,
      "outputs": []
    },
    {
      "cell_type": "code",
      "source": [
        "#Testing the model with predefined test cases.\n",
        "ans_1 = dt.predict((test1))\n",
        "ans_2 = dt.predict((test2))\n",
        "ans_3 = dt.predict((test3))\n",
        "ans_4 = dt.predict((test4))\n",
        "\n",
        "#Storing the above predictions into respective lists.\n",
        "label_1[0] = ans_1[0]\n",
        "label_2[0] = ans_2[0]\n",
        "label_3[0] = ans_3[0]\n",
        "label_4[0] = ans_4[0]"
      ],
      "metadata": {
        "colab": {
          "base_uri": "https://localhost:8080/"
        },
        "id": "eaQWe2hMM6bs",
        "outputId": "4f0f448b-aff2-42e5-931a-9852f10deb7d"
      },
      "execution_count": 9,
      "outputs": [
        {
          "output_type": "stream",
          "name": "stderr",
          "text": [
            "/usr/local/lib/python3.7/dist-packages/sklearn/base.py:451: UserWarning: X does not have valid feature names, but DecisionTreeClassifier was fitted with feature names\n",
            "  \"X does not have valid feature names, but\"\n",
            "/usr/local/lib/python3.7/dist-packages/sklearn/base.py:451: UserWarning: X does not have valid feature names, but DecisionTreeClassifier was fitted with feature names\n",
            "  \"X does not have valid feature names, but\"\n",
            "/usr/local/lib/python3.7/dist-packages/sklearn/base.py:451: UserWarning: X does not have valid feature names, but DecisionTreeClassifier was fitted with feature names\n",
            "  \"X does not have valid feature names, but\"\n",
            "/usr/local/lib/python3.7/dist-packages/sklearn/base.py:451: UserWarning: X does not have valid feature names, but DecisionTreeClassifier was fitted with feature names\n",
            "  \"X does not have valid feature names, but\"\n"
          ]
        }
      ]
    },
    {
      "cell_type": "markdown",
      "source": [
        "Random Classifier"
      ],
      "metadata": {
        "id": "t1U9NPQ5NHzH"
      }
    },
    {
      "cell_type": "code",
      "source": [
        "#Creating the RandomClassifier model.\n",
        "rf = RandomForestClassifier(random_state = 0) \n",
        "#Training the model.\n",
        "rf.fit(X_train, y_train)\n",
        "#Making predictions using the model.\n",
        "pred_rf = rf.predict(X_test)\n",
        "#Calculating error\n",
        "error[1] = round(mean_absolute_error(y_test, pred_rf), 3)"
      ],
      "metadata": {
        "id": "F8h0WkJfNCp2"
      },
      "execution_count": 10,
      "outputs": []
    },
    {
      "cell_type": "code",
      "source": [
        "#Testing the model with predefined test cases.\n",
        "ans_1 = rf.predict((test1))\n",
        "ans_2 = rf.predict((test2))\n",
        "ans_3 = rf.predict((test3))\n",
        "ans_4 = rf.predict((test4))\n",
        "\n",
        "#Storing the above predictions into respective lists.\n",
        "label_1[1] = ans_1[0]\n",
        "label_2[1] = ans_2[0]\n",
        "label_3[1] = ans_3[0]\n",
        "label_4[1] = ans_4[0]"
      ],
      "metadata": {
        "colab": {
          "base_uri": "https://localhost:8080/"
        },
        "id": "XPnvWcNSNKyT",
        "outputId": "88b51c17-a6c0-4102-9a87-835f3d31dd08"
      },
      "execution_count": 11,
      "outputs": [
        {
          "output_type": "stream",
          "name": "stderr",
          "text": [
            "/usr/local/lib/python3.7/dist-packages/sklearn/base.py:451: UserWarning: X does not have valid feature names, but RandomForestClassifier was fitted with feature names\n",
            "  \"X does not have valid feature names, but\"\n",
            "/usr/local/lib/python3.7/dist-packages/sklearn/base.py:451: UserWarning: X does not have valid feature names, but RandomForestClassifier was fitted with feature names\n",
            "  \"X does not have valid feature names, but\"\n",
            "/usr/local/lib/python3.7/dist-packages/sklearn/base.py:451: UserWarning: X does not have valid feature names, but RandomForestClassifier was fitted with feature names\n",
            "  \"X does not have valid feature names, but\"\n",
            "/usr/local/lib/python3.7/dist-packages/sklearn/base.py:451: UserWarning: X does not have valid feature names, but RandomForestClassifier was fitted with feature names\n",
            "  \"X does not have valid feature names, but\"\n"
          ]
        }
      ]
    },
    {
      "cell_type": "markdown",
      "source": [
        "SVM"
      ],
      "metadata": {
        "id": "j14-2PTbNQVp"
      }
    },
    {
      "cell_type": "code",
      "source": [
        "#Creating the SVM model.\n",
        "svm = SVC(kernel = \"linear\")\n",
        "#Training the model.\n",
        "svm.fit(X_train, y_train)\n",
        "#Making predictions using the model.\n",
        "pred_svm = svm.predict(X_test)\n",
        "#Calculating error\n",
        "error[2] = round(mean_absolute_error(y_test, pred_svm), 3)"
      ],
      "metadata": {
        "id": "-ni1dXzuNN5f"
      },
      "execution_count": 12,
      "outputs": []
    },
    {
      "cell_type": "code",
      "source": [
        "#Testing the model with predefined test cases.\n",
        "ans_1 = svm.predict((test1))\n",
        "ans_2 = svm.predict((test2))\n",
        "ans_3 = svm.predict((test3))\n",
        "ans_4 = svm.predict((test4))\n",
        "\n",
        "#Storing the above predictions into respective lists.\n",
        "label_1[2] = ans_1[0]\n",
        "label_2[2] = ans_2[0]\n",
        "label_3[2] = ans_3[0]\n",
        "label_4[2] = ans_4[0]"
      ],
      "metadata": {
        "colab": {
          "base_uri": "https://localhost:8080/"
        },
        "id": "NaeICQdcNTbW",
        "outputId": "ec185be4-a978-4cd9-9e29-6d32b4dc16ed"
      },
      "execution_count": 13,
      "outputs": [
        {
          "output_type": "stream",
          "name": "stderr",
          "text": [
            "/usr/local/lib/python3.7/dist-packages/sklearn/base.py:451: UserWarning: X does not have valid feature names, but SVC was fitted with feature names\n",
            "  \"X does not have valid feature names, but\"\n",
            "/usr/local/lib/python3.7/dist-packages/sklearn/base.py:451: UserWarning: X does not have valid feature names, but SVC was fitted with feature names\n",
            "  \"X does not have valid feature names, but\"\n",
            "/usr/local/lib/python3.7/dist-packages/sklearn/base.py:451: UserWarning: X does not have valid feature names, but SVC was fitted with feature names\n",
            "  \"X does not have valid feature names, but\"\n",
            "/usr/local/lib/python3.7/dist-packages/sklearn/base.py:451: UserWarning: X does not have valid feature names, but SVC was fitted with feature names\n",
            "  \"X does not have valid feature names, but\"\n"
          ]
        }
      ]
    },
    {
      "cell_type": "markdown",
      "source": [
        "RandomForest model with GridSearch"
      ],
      "metadata": {
        "id": "1AfTevzkNlBM"
      }
    },
    {
      "cell_type": "code",
      "source": [
        "#Creating a list of possible n_estimators.\n",
        "n_est = {'n_estimators' : [10,100,500,1000]}\n",
        "#Creating a RandomForest model using the value of n_estimators given by GridSearch for best result.\n",
        "rf_grid = GridSearchCV(RandomForestClassifier(random_state=0),n_est,scoring='f1_macro')\n",
        "#Training the model\n",
        "rf_grid.fit(X_train, y_train)\n",
        "#Making predictions using the model.\n",
        "pred_rf_grid = rf_grid.predict(X_test)\n",
        "#Printing the value of n_estimator used in the model.\n",
        "#This value provides the most accurate predictions for our dataset.\n",
        "print('Best value of n_estimator for RandomForest model is:')\n",
        "print(rf_grid.best_params_)\n",
        "#Calculating error\n",
        "error[3] = round(mean_absolute_error(y_test, pred_rf_grid), 3)"
      ],
      "metadata": {
        "colab": {
          "base_uri": "https://localhost:8080/"
        },
        "id": "7mcL5rG4NnjA",
        "outputId": "7481fd57-8cdc-4e96-e09d-6b39a0117190"
      },
      "execution_count": 15,
      "outputs": [
        {
          "output_type": "stream",
          "name": "stdout",
          "text": [
            "Best value of n_estimator for RandomForest model is:\n",
            "{'n_estimators': 100}\n"
          ]
        }
      ]
    },
    {
      "cell_type": "code",
      "source": [
        "#Testing the model with predefined test cases.\n",
        "ans_1 = rf_grid.predict((test1))\n",
        "ans_2 = rf_grid.predict((test2))\n",
        "ans_3 = rf_grid.predict((test3))\n",
        "ans_4 = rf_grid.predict((test4))\n",
        "\n",
        "#Storing the above predictions into respective lists.\n",
        "label_1[3] = ans_1[0]\n",
        "label_2[3] = ans_2[0]\n",
        "label_3[3] = ans_3[0]\n",
        "label_4[3] = ans_4[0]"
      ],
      "metadata": {
        "id": "oYbNeItYQ4NK",
        "colab": {
          "base_uri": "https://localhost:8080/"
        },
        "outputId": "118ef159-cb1c-4188-cca5-4dce1b0e36aa"
      },
      "execution_count": 16,
      "outputs": [
        {
          "output_type": "stream",
          "name": "stderr",
          "text": [
            "/usr/local/lib/python3.7/dist-packages/sklearn/base.py:451: UserWarning: X does not have valid feature names, but RandomForestClassifier was fitted with feature names\n",
            "  \"X does not have valid feature names, but\"\n",
            "/usr/local/lib/python3.7/dist-packages/sklearn/base.py:451: UserWarning: X does not have valid feature names, but RandomForestClassifier was fitted with feature names\n",
            "  \"X does not have valid feature names, but\"\n",
            "/usr/local/lib/python3.7/dist-packages/sklearn/base.py:451: UserWarning: X does not have valid feature names, but RandomForestClassifier was fitted with feature names\n",
            "  \"X does not have valid feature names, but\"\n",
            "/usr/local/lib/python3.7/dist-packages/sklearn/base.py:451: UserWarning: X does not have valid feature names, but RandomForestClassifier was fitted with feature names\n",
            "  \"X does not have valid feature names, but\"\n"
          ]
        }
      ]
    },
    {
      "cell_type": "markdown",
      "source": [
        "SVM model with GridSearch"
      ],
      "metadata": {
        "id": "-U0LrkYHuhia"
      }
    },
    {
      "cell_type": "code",
      "source": [
        "#options_parameters is a list of dictionaries to find the most suitable values of 'kernel', 'gamma' and 'C' for the given model.\n",
        "options_parameters = [{'kernel': ['rbf'], 'gamma': [1e-3, 1e-4],\n",
        "                     'C': [1, 10, 100, 1000]},\n",
        "                    {'kernel': ['linear'], 'C': [1, 10, 100, 1000]}]\n",
        "#Creating SVM model with the most suitable parameters obtained by using GridSearch.\n",
        "svm_grid = GridSearchCV(SVC(), options_parameters,scoring='f1_macro')\n",
        "#Training the model.\n",
        "svm_grid.fit(X_train, y_train)\n",
        "#Making predictions using the model.\n",
        "pred_svm_grid = svm_grid.predict(X_test)\n",
        "#Printing the values of 'C', 'gamma' and 'kernel' used in our model.\n",
        "#These values provide the most accurate predictions for the given dataset.\n",
        "print('Best parameters of SVM model are:')\n",
        "print(svm_grid.best_params_)\n",
        "#Calculating error\n",
        "error[4] = round(mean_absolute_error(y_test, pred_svm_grid), 3)"
      ],
      "metadata": {
        "colab": {
          "base_uri": "https://localhost:8080/"
        },
        "id": "krp0eWNpufXo",
        "outputId": "5e0e1728-725f-454b-fe62-3f8df385c752"
      },
      "execution_count": 17,
      "outputs": [
        {
          "output_type": "stream",
          "name": "stdout",
          "text": [
            "Best parameters of SVM model are:\n",
            "{'C': 1, 'kernel': 'linear'}\n"
          ]
        }
      ]
    },
    {
      "cell_type": "code",
      "source": [
        "#Testing the model with predefined test cases.\n",
        "ans_1 = svm_grid.predict((test1))\n",
        "ans_2 = svm_grid.predict((test2))\n",
        "ans_3 = svm_grid.predict((test3))\n",
        "ans_4 = svm_grid.predict((test4))\n",
        "\n",
        "#Storing the above predictions into respective lists.\n",
        "label_1[4] = ans_1[0]\n",
        "label_2[4] = ans_2[0]\n",
        "label_3[4] = ans_3[0]\n",
        "label_4[4] = ans_4[0]"
      ],
      "metadata": {
        "colab": {
          "base_uri": "https://localhost:8080/"
        },
        "id": "2Udm8zC8unsc",
        "outputId": "b6045d63-7a07-4cdd-c77e-bb4ec54fc36a"
      },
      "execution_count": 18,
      "outputs": [
        {
          "output_type": "stream",
          "name": "stderr",
          "text": [
            "/usr/local/lib/python3.7/dist-packages/sklearn/base.py:451: UserWarning: X does not have valid feature names, but SVC was fitted with feature names\n",
            "  \"X does not have valid feature names, but\"\n",
            "/usr/local/lib/python3.7/dist-packages/sklearn/base.py:451: UserWarning: X does not have valid feature names, but SVC was fitted with feature names\n",
            "  \"X does not have valid feature names, but\"\n",
            "/usr/local/lib/python3.7/dist-packages/sklearn/base.py:451: UserWarning: X does not have valid feature names, but SVC was fitted with feature names\n",
            "  \"X does not have valid feature names, but\"\n",
            "/usr/local/lib/python3.7/dist-packages/sklearn/base.py:451: UserWarning: X does not have valid feature names, but SVC was fitted with feature names\n",
            "  \"X does not have valid feature names, but\"\n"
          ]
        }
      ]
    },
    {
      "cell_type": "markdown",
      "source": [
        "Comparing Errors of different models"
      ],
      "metadata": {
        "id": "e-Ij_BqMutgo"
      }
    },
    {
      "cell_type": "code",
      "source": [
        "#list of models\n",
        "models = ['DecisionTree', 'RandomForest','SVM\\t', 'RandomForest\\n(GridSearch)', 'SVM\\n(GridSearch)']\n",
        "print('Model\\t\\tError')\n",
        "for i in range(5):\n",
        "    print('{}\\t{}'.format(models[i],error[i]))"
      ],
      "metadata": {
        "colab": {
          "base_uri": "https://localhost:8080/"
        },
        "id": "flDvuWCBurUy",
        "outputId": "a4c962ef-d086-4bd1-d3e6-d9d0acf0e4c9"
      },
      "execution_count": 19,
      "outputs": [
        {
          "output_type": "stream",
          "name": "stdout",
          "text": [
            "Model\t\tError\n",
            "DecisionTree\t0.162\n",
            "RandomForest\t0.072\n",
            "SVM\t\t0.075\n",
            "RandomForest\n",
            "(GridSearch)\t0.072\n",
            "SVM\n",
            "(GridSearch)\t0.075\n"
          ]
        }
      ]
    },
    {
      "cell_type": "code",
      "source": [
        "#From the above result, we can observe that the error is maximum in SVM and SVM with GridSearch model.\n",
        "#Error is minimum in DecisionTree Model.\n",
        "#We can't decide the best model for the given dataset only on the basis of error.\n",
        "#In order to find the best fit, we need to consider precision and recall as well."
      ],
      "metadata": {
        "id": "nmUPQVRLuyH7"
      },
      "execution_count": 20,
      "outputs": []
    },
    {
      "cell_type": "markdown",
      "source": [
        "Comparing Results of Different models"
      ],
      "metadata": {
        "id": "7-_bgal_vCQ7"
      }
    },
    {
      "cell_type": "code",
      "source": [
        "#Printing label lists\n",
        "print(label_1)\n",
        "print(label_2)\n",
        "print(label_3)\n",
        "print(label_4)"
      ],
      "metadata": {
        "colab": {
          "base_uri": "https://localhost:8080/"
        },
        "id": "RgbA5IdTu39w",
        "outputId": "e49d2367-2a65-45c3-ae44-37aa08a25c31"
      },
      "execution_count": 21,
      "outputs": [
        {
          "output_type": "stream",
          "name": "stdout",
          "text": [
            "[2, 2, 1, 2, 1]\n",
            "[2, 2, 2, 2, 2]\n",
            "[1, 1, 1, 1, 1]\n",
            "[1, 1, 1, 1, 1]\n"
          ]
        }
      ]
    },
    {
      "cell_type": "code",
      "source": [
        "plt.figure(figsize=(10,5))\n",
        "sns.scatterplot(x = ['DecisionTree', 'RandomForest','SVM', 'RandomForest (GridSearch)', 'SVM (GridSearch)'], \n",
        "                y = label_1, s = 200, label = 'test1',)\n",
        "sns.scatterplot(x = ['DecisionTree', 'RandomForest','SVM', 'RandomForest (GridSearch)', 'SVM (GridSearch)'], \n",
        "                y = label_2, s = 150, label = 'test2')\n",
        "sns.scatterplot(x = ['DecisionTree', 'RandomForest','SVM', 'RandomForest (GridSearch)', 'SVM (GridSearch)'], \n",
        "                y = label_3, s = 100, label = 'test3')\n",
        "sns.scatterplot(x = ['DecisionTree', 'RandomForest','SVM', 'RandomForest (GridSearch)', 'SVM (GridSearch)'], \n",
        "                y = label_4, s = 50, label = 'test3')\n",
        "sns.lineplot(x = ['DecisionTree', 'RandomForest','SVM', 'RandomForest (GridSearch)', 'SVM (GridSearch)'], \n",
        "                y = label_1)\n",
        "sns.lineplot(x = ['DecisionTree', 'RandomForest','SVM', 'RandomForest (GridSearch)', 'SVM (GridSearch)'], \n",
        "                y = label_2)\n",
        "sns.lineplot(x = ['DecisionTree', 'RandomForest','SVM', 'RandomForest (GridSearch)', 'SVM (GridSearch)'], \n",
        "                y = label_3)\n",
        "sns.lineplot(x = ['DecisionTree', 'RandomForest','SVM', 'RandomForest (GridSearch)', 'SVM (GridSearch)'], \n",
        "                y = label_4)\n",
        "plt.show()"
      ],
      "metadata": {
        "colab": {
          "base_uri": "https://localhost:8080/",
          "height": 320
        },
        "id": "FCrz0XZ_vD8C",
        "outputId": "14682d31-baaf-4818-bb62-3a210f9cd72d"
      },
      "execution_count": 22,
      "outputs": [
        {
          "output_type": "display_data",
          "data": {
            "text/plain": [
              "<Figure size 720x360 with 1 Axes>"
            ],
            "image/png": "[encoded data removed]"
          },
          "metadata": {
            "needs_background": "light"
          }
        }
      ]
    },
    {
      "cell_type": "markdown",
      "source": [
        "Confusion Matrices of different models"
      ],
      "metadata": {
        "id": "R0S6UHl3vMSE"
      }
    },
    {
      "cell_type": "code",
      "source": [
        "#Confusion matrix for Decision tree model.\n",
        "print(confusion_matrix(np.array(y_test), pred_dt))\n",
        "plot_confusion_matrix(dt, X_test, y_test)\n",
        "plt.show()\n",
        "#Finding precision, recall and f-score for Decision Tree Model and updating values in respective lists.\n",
        "precision[0], recall[0], fscore[0], Nil = precision_recall_fscore_support(y_test, pred_dt, average='macro')\n",
        "print('For a DecisionTreeClassifier:  Precision = %.3f, Recall = %.3f, F1-score = %.3f'%(precision[0], recall[0], fscore[0]))"
      ],
      "metadata": {
        "colab": {
          "base_uri": "https://localhost:8080/",
          "height": 403
        },
        "id": "SlfXzQBovGJR",
        "outputId": "0e5d2206-fc22-4347-bd10-8cfc9d58fd46"
      },
      "execution_count": 23,
      "outputs": [
        {
          "output_type": "stream",
          "name": "stdout",
          "text": [
            "[[ 38  10   0]\n",
            " [  9 187  27]\n",
            " [  0  19 110]]\n"
          ]
        },
        {
          "output_type": "stream",
          "name": "stderr",
          "text": [
            "/usr/local/lib/python3.7/dist-packages/sklearn/utils/deprecation.py:87: FutureWarning: Function plot_confusion_matrix is deprecated; Function `plot_confusion_matrix` is deprecated in 1.0 and will be removed in 1.2. Use one of the class methods: ConfusionMatrixDisplay.from_predictions or ConfusionMatrixDisplay.from_estimator.\n",
            "  warnings.warn(msg, category=FutureWarning)\n"
          ]
        },
        {
          "output_type": "display_data",
          "data": {
            "text/plain": [
              "<Figure size 432x288 with 2 Axes>"
            ],
            "image/png": "[encoded data removed]"
          },
          "metadata": {
            "needs_background": "light"
          }
        },
        {
          "output_type": "stream",
          "name": "stdout",
          "text": [
            "For a DecisionTreeClassifier:  Precision = 0.826, Recall = 0.828, F1-score = 0.826\n"
          ]
        }
      ]
    },
    {
      "cell_type": "code",
      "source": [
        "#Confusion matrix for RandomForest model.\n",
        "print(confusion_matrix(np.array(y_test), pred_rf))\n",
        "plot_confusion_matrix(rf, X_test, y_test)\n",
        "plt.show()\n",
        "#Finding precision, recall and f-score for RandomForest Model and updating values in respective lists.\n",
        "precision[1], recall[1], fscore[1], Nil = precision_recall_fscore_support(y_test, pred_rf, average='macro')\n",
        "print('For a RandomForestClassifier:  Precision = %.3f, Recall = %.3f, F1-score = %.3f'%(precision[1], recall[1], fscore[1]))"
      ],
      "metadata": {
        "colab": {
          "base_uri": "https://localhost:8080/",
          "height": 404
        },
        "id": "npSln_FBvOVT",
        "outputId": "37fff17b-a72c-45e3-a61f-26c9b841d01c"
      },
      "execution_count": 24,
      "outputs": [
        {
          "output_type": "stream",
          "name": "stdout",
          "text": [
            "[[ 46   2   0]\n",
            " [  3 203  17]\n",
            " [  0   7 122]]\n"
          ]
        },
        {
          "output_type": "stream",
          "name": "stderr",
          "text": [
            "/usr/local/lib/python3.7/dist-packages/sklearn/utils/deprecation.py:87: FutureWarning: Function plot_confusion_matrix is deprecated; Function `plot_confusion_matrix` is deprecated in 1.0 and will be removed in 1.2. Use one of the class methods: ConfusionMatrixDisplay.from_predictions or ConfusionMatrixDisplay.from_estimator.\n",
            "  warnings.warn(msg, category=FutureWarning)\n"
          ]
        },
        {
          "output_type": "display_data",
          "data": {
            "text/plain": [
              "<Figure size 432x288 with 2 Axes>"
            ],
            "image/png": "[encoded data removed]"
          },
          "metadata": {
            "needs_background": "light"
          }
        },
        {
          "output_type": "stream",
          "name": "stdout",
          "text": [
            "For a RandomForestClassifier:  Precision = 0.925, Recall = 0.938, F1-score = 0.931\n"
          ]
        }
      ]
    },
    {
      "cell_type": "code",
      "source": [
        "#Confusion matrix for SVM model\n",
        "print(confusion_matrix(np.array(y_test), pred_svm))\n",
        "plot_confusion_matrix(svm, X_test, y_test)\n",
        "plt.show()\n",
        "#Finding precision, recall and f-score for SVM model and updating values in respective lists.\n",
        "precision[2], recall[2], fscore[2], Nil = precision_recall_fscore_support(y_test, pred_svm, average='macro')\n",
        "print('For a SVM model:  Precision = %.3f, Recall = %.3f, F1-score = %.3f'%(precision[2], recall[2], fscore[2]))"
      ],
      "metadata": {
        "colab": {
          "base_uri": "https://localhost:8080/",
          "height": 403
        },
        "id": "j6w0vDMfvyjv",
        "outputId": "801ad605-729f-4964-ebcb-55da9a24ee64"
      },
      "execution_count": 25,
      "outputs": [
        {
          "output_type": "stream",
          "name": "stdout",
          "text": [
            "[[ 44   4   0]\n",
            " [  4 206  13]\n",
            " [  0   9 120]]\n"
          ]
        },
        {
          "output_type": "stream",
          "name": "stderr",
          "text": [
            "/usr/local/lib/python3.7/dist-packages/sklearn/utils/deprecation.py:87: FutureWarning: Function plot_confusion_matrix is deprecated; Function `plot_confusion_matrix` is deprecated in 1.0 and will be removed in 1.2. Use one of the class methods: ConfusionMatrixDisplay.from_predictions or ConfusionMatrixDisplay.from_estimator.\n",
            "  warnings.warn(msg, category=FutureWarning)\n"
          ]
        },
        {
          "output_type": "display_data",
          "data": {
            "text/plain": [
              "<Figure size 432x288 with 2 Axes>"
            ],
            "image/png": "[encoded data removed]"
          },
          "metadata": {
            "needs_background": "light"
          }
        },
        {
          "output_type": "stream",
          "name": "stdout",
          "text": [
            "For a SVM model:  Precision = 0.920, Recall = 0.924, F1-score = 0.922\n"
          ]
        }
      ]
    },
    {
      "cell_type": "code",
      "source": [
        "#Confusion matrix for RandomForest model using GridSearch\n",
        "print(confusion_matrix(np.array(y_test), pred_rf_grid))\n",
        "plot_confusion_matrix(rf_grid, X_test, y_test)\n",
        "plt.show()\n",
        "#Finding precision, recall and f-score for RandomForest (GridSearch) model and updating values in respective lists.\n",
        "precision[3], recall[3], fscore[3], Nil = precision_recall_fscore_support(y_test, pred_rf_grid, average='macro')\n",
        "print('For a RandomForest model with GridSearch:  Precision = %.3f, Recall = %.3f, F1-score = %.3f'%(precision[3], recall[3], fscore[3]))"
      ],
      "metadata": {
        "colab": {
          "base_uri": "https://localhost:8080/",
          "height": 404
        },
        "id": "blTrqvPHv1O7",
        "outputId": "a7f8b6e9-009d-4d31-8f99-0e767d1d2ddf"
      },
      "execution_count": 26,
      "outputs": [
        {
          "output_type": "stream",
          "name": "stdout",
          "text": [
            "[[ 46   2   0]\n",
            " [  3 203  17]\n",
            " [  0   7 122]]\n"
          ]
        },
        {
          "output_type": "stream",
          "name": "stderr",
          "text": [
            "/usr/local/lib/python3.7/dist-packages/sklearn/utils/deprecation.py:87: FutureWarning: Function plot_confusion_matrix is deprecated; Function `plot_confusion_matrix` is deprecated in 1.0 and will be removed in 1.2. Use one of the class methods: ConfusionMatrixDisplay.from_predictions or ConfusionMatrixDisplay.from_estimator.\n",
            "  warnings.warn(msg, category=FutureWarning)\n"
          ]
        },
        {
          "output_type": "display_data",
          "data": {
            "text/plain": [
              "<Figure size 432x288 with 2 Axes>"
            ],
            "image/png": "[encoded data removed]"
          },
          "metadata": {
            "needs_background": "light"
          }
        },
        {
          "output_type": "stream",
          "name": "stdout",
          "text": [
            "For a RandomForest model with GridSearch:  Precision = 0.925, Recall = 0.938, F1-score = 0.931\n"
          ]
        }
      ]
    },
    {
      "cell_type": "code",
      "source": [
        "#Confusion matrix for SVM model using GridSearch\n",
        "print(confusion_matrix(np.array(y_test), pred_svm_grid))\n",
        "plot_confusion_matrix(svm_grid, X_test, y_test)\n",
        "plt.show()\n",
        "#Finding precision, recall and f-score for SVM (GridSearch) model and updating values in respective lists.\n",
        "precision[4], recall[4], fscore[4], Nil = precision_recall_fscore_support(y_test, pred_svm_grid, average='macro')\n",
        "print('For a SVM model with GridSearch:  Precision = %.3f, Recall = %.3f, F1-score = %.3f'%(precision[4], recall[4], fscore[4]))"
      ],
      "metadata": {
        "colab": {
          "base_uri": "https://localhost:8080/",
          "height": 403
        },
        "id": "1l63LiDyv3fz",
        "outputId": "f93ad130-6c54-4976-e1d0-60ea9c2378ca"
      },
      "execution_count": 27,
      "outputs": [
        {
          "output_type": "stream",
          "name": "stdout",
          "text": [
            "[[ 44   4   0]\n",
            " [  4 206  13]\n",
            " [  0   9 120]]\n"
          ]
        },
        {
          "output_type": "stream",
          "name": "stderr",
          "text": [
            "/usr/local/lib/python3.7/dist-packages/sklearn/utils/deprecation.py:87: FutureWarning: Function plot_confusion_matrix is deprecated; Function `plot_confusion_matrix` is deprecated in 1.0 and will be removed in 1.2. Use one of the class methods: ConfusionMatrixDisplay.from_predictions or ConfusionMatrixDisplay.from_estimator.\n",
            "  warnings.warn(msg, category=FutureWarning)\n"
          ]
        },
        {
          "output_type": "display_data",
          "data": {
            "text/plain": [
              "<Figure size 432x288 with 2 Axes>"
            ],
            "image/png": "[encoded data removed]"
          },
          "metadata": {
            "needs_background": "light"
          }
        },
        {
          "output_type": "stream",
          "name": "stdout",
          "text": [
            "For a SVM model with GridSearch:  Precision = 0.920, Recall = 0.924, F1-score = 0.922\n"
          ]
        }
      ]
    },
    {
      "cell_type": "code",
      "source": [
        "#Creating a line plot to compare teh precision, recall and f1-score of all the models.\n",
        "#This graph is plotted to find the best fit for our dataset.\n",
        "plt.figure(figsize=(15,5))\n",
        "sns.lineplot(x = ['DecisionTree', 'RandomForest','SVM', 'RandomForest (GridSearch)', 'SVM (GridSearch)'], \n",
        "             y = precision,label = 'precision')\n",
        "sns.lineplot(x = ['DecisionTree', 'RandomForest','SVM', 'RandomForest (GridSearch)', 'SVM (GridSearch)'], \n",
        "             y = recall,label = 'recall')\n",
        "sns.lineplot(x = ['DecisionTree', 'RandomForest','SVM', 'RandomForest (GridSearch)', 'SVM (GridSearch)'], \n",
        "             y = fscore,label = 'f1-score')\n",
        "plt.show()\n"
      ],
      "metadata": {
        "colab": {
          "base_uri": "https://localhost:8080/",
          "height": 320
        },
        "id": "5ZbpLPfhv7Uo",
        "outputId": "740a548d-27e5-42c5-82d9-d17e1cd49cfb"
      },
      "execution_count": 28,
      "outputs": [
        {
          "output_type": "display_data",
          "data": {
            "text/plain": [
              "<Figure size 1080x360 with 1 Axes>"
            ],
            "image/png": "[encoded data removed]"
          },
          "metadata": {
            "needs_background": "light"
          }
        }
      ]
    },
    {
      "cell_type": "code",
      "source": [
        "#From the above plot, we can see that the RandomForest model with GridSearch is the best fit for the given dataset."
      ],
      "metadata": {
        "id": "-ay0AbvNv8IU"
      },
      "execution_count": 29,
      "outputs": []
    },
    {
      "cell_type": "markdown",
      "source": [
        "Making Predictions with best fit model"
      ],
      "metadata": {
        "id": "BJWauAPrwDfY"
      }
    },
    {
      "cell_type": "code",
      "source": [
        "#Therefore the most accurate results for all the applicants are as follows.\n",
        "possibility = {0: \"High\", 1: \"Moderate\", 2: \"Low\"}\n",
        "print('Applicant\\tLabel\\tPossibility of Dyslexia')\n",
        "print('1\\t\\t{}\\t\\t{}'.format(label_1[3], possibility[label_1[3]]))\n",
        "print('2\\t\\t{}\\t\\t{}'.format(label_2[3], possibility[label_2[3]]))\n",
        "print('3\\t\\t{}\\t\\t{}'.format(label_3[3], possibility[label_3[3]]))\n",
        "print('4\\t\\t{}\\t\\t{}'.format(label_4[3], possibility[label_4[3]]))"
      ],
      "metadata": {
        "colab": {
          "base_uri": "https://localhost:8080/"
        },
        "id": "svv0OKvowBbE",
        "outputId": "d9c3e02a-b9b6-4845-a23b-c901bbe3be73"
      },
      "execution_count": 31,
      "outputs": [
        {
          "output_type": "stream",
          "name": "stdout",
          "text": [
            "Applicant\tLabel\tPossibility of Dyslexia\n",
            "1\t\t2\t\tLow\n",
            "2\t\t2\t\tLow\n",
            "3\t\t1\t\tModerate\n",
            "4\t\t1\t\tModerate\n"
          ]
        }
      ]
    }
  ]
}